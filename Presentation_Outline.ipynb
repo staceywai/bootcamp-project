{
 "cells": [
  {
   "cell_type": "markdown",
   "metadata": {},
   "source": [
    "# Project Proposal:\n",
    "\n",
    "    •\tAnalyze consumer spending to understand how people's spending habits are affected by a global pandemic\n",
    "    •\tPulled data from BEA (US Bureau of Economic Analysis) to review gov spending\n",
    "    •\tSpend data from 1959-2020 broken out by month and category\n",
    "    •\t3 main categories - durable goods, non-durable goods and services    "
   ]
  },
  {
   "cell_type": "markdown",
   "metadata": {},
   "source": [
    "# Title Slide\n",
    "\n",
    "Include the name of the Project and Group Members"
   ]
  },
  {
   "cell_type": "markdown",
   "metadata": {},
   "source": [
    "# Motivation & Summary Slide\n",
    "\n",
    "Define the core message or hypothesis of your project.\n",
    "Describe the questions you asked, and why you asked them\n",
    "Describe whether you were able to answer these questions to your satisfaction, and briefly summarize your findings\n",
    "\n",
    "    •\tHypothesis: Consumer spending was affected by going through a global pandemic and there were certain items that consumers should stock up on "
   ]
  },
  {
   "cell_type": "markdown",
   "metadata": {},
   "source": [
    "# Questions & Data\n",
    "\n",
    "Elaborate on the questions you asked, describing what kinds of data you needed to answer them, and where you found it\n",
    "\n",
    "    Main Question: \n",
    "    How was consumer spending affected during the pandemic? Based on the trends we saw, as a consumer what items should I stock my shelves with in preparation of a Zombie Apocolypse (Covid Round 2)? \n",
    "\n",
    "    Other Questions:\n",
    "\n",
    "    •\tHow did spending differ between durable and non-durable goods?\n",
    "\n",
    "    •\tFor non-durable goods what items did people buy most?\n",
    "\n",
    "    •\tWhat was the rate of growth or decrease for any noteable categories?\n"
   ]
  },
  {
   "cell_type": "markdown",
   "metadata": {},
   "source": [
    "# Data Cleanup & Exploration\n",
    "\n",
    "Describe the exploration and cleanup process\n",
    "\n",
    "    •\tCleaned up data set and focused on small data subsets\n",
    "\n",
    "        •\t2019 v 2020\n",
    "        •\tDurable:\n",
    "            •\tNecessities\n",
    "            •\tRecreational spending\n",
    "\n",
    "    •\tNon-durable:\n",
    "\n",
    "        •\tFood and bev\n",
    "            •\tAlcohol and beverages\n",
    "            •\tMeat v fruit & veg"
   ]
  },
  {
   "cell_type": "markdown",
   "metadata": {},
   "source": [
    "# Unanticipated data insights\n",
    "\n",
    "    •\tRecreational goods:severe climb (add calculation for rate of change) between April-May in spending across all categories (stimulus check?)\n",
    "\n",
    "    •\tNecessities: prescription v non-prescription drugs \n",
    "    •\tFood and bev:\n",
    "    •\tJune – meat shortage\n",
    "    •\tAlcohol and coffee sales\n",
    "    •\tMineral bev sales going down after the initial spike"
   ]
  },
  {
   "cell_type": "markdown",
   "metadata": {},
   "source": [
    "# Problems encountered during data exploration\n",
    "\n",
    "Present and discuss interesting figures developed during exploration, ideally with the help of Jupyter Notebook\n",
    "\n",
    "    •\tData output from BEA was very messy - using spacing as subcats etc\n",
    "    •\tVague category descriptions\n",
    "    •\tWas data adjusted for population increase – why was 2020 consistently higher than 2019 spending\n",
    "    •\tYes data was adjusted for inflation\n",
    "    •\tNon-durable goods – people are at home and cooking more\n",
    "        •\tConfirmed by spending trends in durable goods being more inconsistent YOY\n"
   ]
  },
  {
   "cell_type": "markdown",
   "metadata": {},
   "source": [
    "# Data Analysis\n",
    "\n",
    "Discuss the steps you took to analyze the data and answer each question you asked in your proposal\n",
    "\n",
    "    •\tSplit out data into different categories and created graphs to visualize YOY trends\n",
    "    •\tUsed graphs to narrow categories and insights\n",
    "    •\tAs we were comparing categories, it was interesting to see the direct correlation of national events or policy \n",
    "    •\t*beginning of pandemic\n",
    "    •\tNational lockdown (Oregon quarantine March – May… some cities extending even into July)\n",
    "    •\tStimulus checks being issued April 13-June\n",
    "    •\tBLM protests/civil unrest"
   ]
  },
  {
   "cell_type": "markdown",
   "metadata": {},
   "source": [
    "# Present figures\n",
    "Present and discuss interesting figures developed during analysis, ideally with the help of Jupyter Notebook"
   ]
  },
  {
   "cell_type": "markdown",
   "metadata": {},
   "source": [
    "# Discussion\n",
    "\n",
    "Discuss your findings. Did you find what you expected to find? If not, why not? What inferences or general conclusions can you draw from your analysis?"
   ]
  },
  {
   "cell_type": "markdown",
   "metadata": {},
   "source": [
    "# Post Mortem - Difficulties and Time Constraint\n",
    "\n",
    "Discuss any difficulties that arose, and how you dealt with them\n",
    "\n",
    "Discuss any additional questions that came up, but which you didn't have time to answer: What would you research next, if you had two more weeks?"
   ]
  },
  {
   "cell_type": "markdown",
   "metadata": {},
   "source": [
    "# Open Q&A\n"
   ]
  }
 ],
 "metadata": {
  "kernelspec": {
   "display_name": "Python 3",
   "language": "python",
   "name": "python3"
  },
  "language_info": {
   "codemirror_mode": {
    "name": "ipython",
    "version": 3
   },
   "file_extension": ".py",
   "mimetype": "text/x-python",
   "name": "python",
   "nbconvert_exporter": "python",
   "pygments_lexer": "ipython3",
   "version": "3.6.10"
  }
 },
 "nbformat": 4,
 "nbformat_minor": 4
}
