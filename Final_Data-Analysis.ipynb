{
 "cells": [
  {
   "cell_type": "code",
   "execution_count": 1,
   "metadata": {},
   "outputs": [],
   "source": [
    "# Dependencies\n",
    "from matplotlib import pyplot as plt\n",
    "from scipy.stats import linregress\n",
    "import numpy as np\n",
    "from sklearn import datasets\n",
    "import pandas as pd"
   ]
  },
  {
   "cell_type": "code",
   "execution_count": 2,
   "metadata": {},
   "outputs": [],
   "source": [
    "# Import CSV Files for durable and non-durable goods\n",
    "nondurable = pd.read_csv('Resources/nondurable_no_commas.csv')\n",
    "durable = pd.read_csv('Resources/Durable-no-commas.csv')\n",
    "\n",
    "# Remove white space from the left of the category names\n",
    "nondurable['Consumption Category '] = nondurable['Consumption Category '].str.lstrip()\n",
    "durable['Category'] = durable['Category'].str.lstrip()"
   ]
  },
  {
   "cell_type": "code",
   "execution_count": 3,
   "metadata": {},
   "outputs": [],
   "source": [
    "# Separate non-durable goods into years, and verify the data is in number form\n",
    "nond_data19 = nondurable.loc[:, ['Consumption Category ', '2019M01', '2019M02', '2019M03', '2019M04', '2019M05', '2019M06', '2019M07', '2019M08', '2019M09']]\n",
    "nond_data20 = nondurable.loc[:, ['Consumption Category ', '2020M01', '2020M02', '2020M03', '2020M04', '2020M05', '2020M06', '2020M07', '2020M08', '2020M09']]\n",
    "\n",
    "# Separate durable goods into years, and verify the data is in number form\n",
    "dur_data19 = durable.loc[:, ['Category', '2019M01', '2019M02', '2019M03', '2019M04', '2019M05', '2019M06', '2019M07', '2019M08', '2019M09']]\n",
    "dur_data20 = durable.loc[:, ['Category', '2020M01', '2020M02', '2020M03', '2020M04', '2020M05', '2020M06', '2020M07', '2020M08', '2020M09']]"
   ]
  },
  {
   "cell_type": "code",
   "execution_count": 4,
   "metadata": {},
   "outputs": [],
   "source": [
    "# Set the index of each table to the Consumption Category\n",
    "dur_data19 = dur_data19.set_index('Category')\n",
    "dur_data20 = dur_data20.set_index('Category')\n",
    "\n",
    "nond_data19 = nond_data19.set_index('Consumption Category ')\n",
    "nond_data20 = nond_data20.set_index('Consumption Category ')"
   ]
  },
  {
   "cell_type": "code",
   "execution_count": 5,
   "metadata": {},
   "outputs": [],
   "source": [
    "# Create x values for graphs\n",
    "x_values = ['January', 'February', 'March', 'April', 'May', 'June', 'July', 'August', 'September']"
   ]
  },
  {
   "cell_type": "code",
   "execution_count": null,
   "metadata": {},
   "outputs": [],
   "source": []
  }
 ],
 "metadata": {
  "kernelspec": {
   "display_name": "Python 3",
   "language": "python",
   "name": "python3"
  },
  "language_info": {
   "codemirror_mode": {
    "name": "ipython",
    "version": 3
   },
   "file_extension": ".py",
   "mimetype": "text/x-python",
   "name": "python",
   "nbconvert_exporter": "python",
   "pygments_lexer": "ipython3",
   "version": "3.8.3"
  }
 },
 "nbformat": 4,
 "nbformat_minor": 4
}
